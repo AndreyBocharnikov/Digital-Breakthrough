{
  "nbformat": 4,
  "nbformat_minor": 0,
  "metadata": {
    "colab": {
      "name": "classifier.ipynb",
      "provenance": []
    },
    "kernelspec": {
      "name": "python3",
      "display_name": "Python 3"
    }
  },
  "cells": [
    {
      "cell_type": "code",
      "metadata": {
        "id": "YIXFe6rYs9f1",
        "colab_type": "code",
        "colab": {}
      },
      "source": [
        "import util"
      ],
      "execution_count": 1,
      "outputs": []
    },
    {
      "cell_type": "code",
      "metadata": {
        "id": "w-LMLKAEtBdg",
        "colab_type": "code",
        "colab": {
          "base_uri": "https://localhost:8080/",
          "height": 127
        },
        "outputId": "f97db4b6-b00d-4538-acea-abb51f0098e7"
      },
      "source": [
        "from google.colab import drive\n",
        "drive.mount('/content/drive')"
      ],
      "execution_count": 2,
      "outputs": [
        {
          "output_type": "stream",
          "text": [
            "Go to this URL in a browser: https://accounts.google.com/o/oauth2/auth?client_id=947318989803-6bn6qk8qdgf4n4g3pfee6491hc0brc4i.apps.googleusercontent.com&redirect_uri=urn%3aietf%3awg%3aoauth%3a2.0%3aoob&response_type=code&scope=email%20https%3a%2f%2fwww.googleapis.com%2fauth%2fdocs.test%20https%3a%2f%2fwww.googleapis.com%2fauth%2fdrive%20https%3a%2f%2fwww.googleapis.com%2fauth%2fdrive.photos.readonly%20https%3a%2f%2fwww.googleapis.com%2fauth%2fpeopleapi.readonly\n",
            "\n",
            "Enter your authorization code:\n",
            "··········\n",
            "Mounted at /content/drive\n"
          ],
          "name": "stdout"
        }
      ]
    },
    {
      "cell_type": "code",
      "metadata": {
        "id": "G10174rGdm_4",
        "colab_type": "code",
        "colab": {}
      },
      "source": [
        "descriptions, images = util.make_descriptions_and_images()"
      ],
      "execution_count": 3,
      "outputs": []
    },
    {
      "cell_type": "code",
      "metadata": {
        "id": "QCMlqVCFrFP6",
        "colab_type": "code",
        "colab": {}
      },
      "source": [
        "labels, classes, class_to_index = util.make_labels_and_classes(descriptions)"
      ],
      "execution_count": 4,
      "outputs": []
    },
    {
      "cell_type": "code",
      "metadata": {
        "id": "XIB2X0e5dWBx",
        "colab_type": "code",
        "colab": {}
      },
      "source": [
        "s = pd.Series(list(labels.keys()))\n",
        "mapping = {key : list(val.values()) for key, val in pd.get_dummies(s).to_dict().items()}"
      ],
      "execution_count": null,
      "outputs": []
    },
    {
      "cell_type": "code",
      "metadata": {
        "id": "GSGdLlZoUKkk",
        "colab_type": "code",
        "colab": {
          "base_uri": "https://localhost:8080/",
          "height": 136
        },
        "outputId": "ae950813-3e9a-4f4b-e10a-213ca057e262"
      },
      "source": [
        "s"
      ],
      "execution_count": null,
      "outputs": [
        {
          "output_type": "execute_result",
          "data": {
            "text/plain": [
              "0                       c_kefir\n",
              "1                   ent_cloacae\n",
              "2         klebsiella_pneumoniae\n",
              "3         moraxella_catarrhalis\n",
              "4         staphylococcus_aureus\n",
              "5    staphylococcus_epidermidis\n",
              "dtype: object"
            ]
          },
          "metadata": {
            "tags": []
          },
          "execution_count": 11
        }
      ]
    },
    {
      "cell_type": "markdown",
      "metadata": {
        "id": "L-Y9Y115w00F",
        "colab_type": "text"
      },
      "source": [
        "crop for classification"
      ]
    },
    {
      "cell_type": "code",
      "metadata": {
        "id": "9jmUW8ricZOB",
        "colab_type": "code",
        "colab": {}
      },
      "source": [
        "cropper = torchvision.transforms.functional.crop\n",
        "X, y = [], []\n",
        "for class_, indexes in labels.items():\n",
        "  curent_class = class_to_index[class_]\n",
        "  for index in indexes:\n",
        "    X.append(np.asarray(cropper(Image.fromarray(images[index]), 0, 0, 512, 512)))\n",
        "    y.append(curent_class)\n",
        "#X = np.array(X)\n",
        "#y = np.array(y)\n",
        "del images"
      ],
      "execution_count": null,
      "outputs": []
    },
    {
      "cell_type": "code",
      "metadata": {
        "id": "k5B3oOy2F8ka",
        "colab_type": "code",
        "colab": {}
      },
      "source": [
        "mins, diffs = [], []\n",
        "min_, max_ = np.array(X).min(axis=0), np.array(X).max(axis=0)\n",
        "diff = max_ - min_\n",
        "del max_\n",
        "mins.append(min_.transpose(2, 0, 1).astype(np.uint8))\n",
        "diffs.append(diff.transpose(2, 0, 1).astype(np.uint8))\n",
        "min_im = Image.fromarray(min_)\n",
        "diff_im = Image.fromarray(diff)\n",
        "for j in range(1, 4):\n",
        "  mins.append(np.asarray(min_im.rotate(90 * j, expand=True)).transpose(2, 0, 1))\n",
        "  diffs.append(np.asarray(diff_im.rotate(90 * j, expand=True)).transpose(2, 0, 1))\n",
        "mins.append(np.asarray(min_im.transpose(Image.FLIP_TOP_BOTTOM)).transpose(2, 0, 1))\n",
        "diffs.append(np.asarray(diff_im.transpose(Image.FLIP_TOP_BOTTOM)).transpose(2, 0, 1))\n",
        "mins.append(np.asarray(min_im.transpose(Image.FLIP_LEFT_RIGHT)).transpose(2, 0, 1))\n",
        "diffs.append(np.asarray(diff_im.transpose(Image.FLIP_LEFT_RIGHT)).transpose(2, 0, 1))\n",
        "for j in range(6):\n",
        "  diffs[j] = np.where((diffs[j] == 0), np.inf, diffs[j])\n",
        "def scale(X, rotate):\n",
        "  return 2 * (X - mins[rotate]) / diffs[rotate] - 1"
      ],
      "execution_count": null,
      "outputs": []
    },
    {
      "cell_type": "code",
      "metadata": {
        "id": "imKJza7hFDo9",
        "colab_type": "code",
        "colab": {}
      },
      "source": [
        "np.save('/content/drive/My Drive/ml_contests/digital_breakthrough/classifier_mins.npy', mins[0])\n",
        "np.save('/content/drive/My Drive/ml_contests/digital_breakthrough/classifier_diffs.npy', diffs[0])"
      ],
      "execution_count": null,
      "outputs": []
    },
    {
      "cell_type": "code",
      "metadata": {
        "id": "G96AzVZ-GhYx",
        "colab_type": "code",
        "colab": {}
      },
      "source": [
        "#X_train, X_test, y_train, y_test = map(np.ndarray.tolist, train_test_split(X, y, test_size=0.3, stratify=y))"
      ],
      "execution_count": null,
      "outputs": []
    },
    {
      "cell_type": "code",
      "metadata": {
        "id": "YElPQLJEGh3c",
        "colab_type": "code",
        "colab": {}
      },
      "source": [
        "len_ = len(X)\n",
        "X_train_rot = [0] * len_\n",
        "for i in range(len_):\n",
        "  im = Image.fromarray(np.array(X[i], dtype=np.uint8))\n",
        "  im2 = im.rotate(90, expand=True)\n",
        "  X.append(np.asarray(im2))\n",
        "  im3 = im2.rotate(90, expand=True)\n",
        "  X.append(np.asarray(im3))\n",
        "  im4 = im3.rotate(90, expand=True)\n",
        "  X.append(np.asarray(im4))\n",
        "  \n",
        "  X.append(np.asarray(im.transpose(Image.FLIP_TOP_BOTTOM)))\n",
        "  X.append(np.asarray(im.transpose(Image.FLIP_LEFT_RIGHT)))\n",
        "  X_train_rot += [1, 2, 3, 4, 5]  \n",
        "  for j in range(5):\n",
        "    y.append(y[i])"
      ],
      "execution_count": null,
      "outputs": []
    },
    {
      "cell_type": "code",
      "metadata": {
        "id": "J6mv_NXbGmr7",
        "colab_type": "code",
        "colab": {}
      },
      "source": [
        "#X_train, X_test, y_train, y_test = map(np.array, (X_train, X_test, y_train, y_test))"
      ],
      "execution_count": null,
      "outputs": []
    },
    {
      "cell_type": "code",
      "metadata": {
        "id": "vrs0r9m5brQ6",
        "colab_type": "code",
        "colab": {}
      },
      "source": [
        "X, y = map(np.array, (X, y))\n",
        "X = X.transpose(0, 3, 1, 2)"
      ],
      "execution_count": null,
      "outputs": []
    },
    {
      "cell_type": "code",
      "metadata": {
        "id": "HrrYs9wVZYhC",
        "colab_type": "code",
        "colab": {}
      },
      "source": [
        "X_train = X_train.transpose(0, 3, 1, 2)\n",
        "X_test = X_test.transpose(0, 3, 1, 2)"
      ],
      "execution_count": null,
      "outputs": []
    },
    {
      "cell_type": "code",
      "metadata": {
        "id": "C5KrVhTE_HrH",
        "colab_type": "code",
        "colab": {}
      },
      "source": [
        "device = torch.device(\"cuda:0\")"
      ],
      "execution_count": null,
      "outputs": []
    },
    {
      "cell_type": "code",
      "metadata": {
        "id": "rDMx5maXbeuB",
        "colab_type": "code",
        "colab": {}
      },
      "source": [
        "def make_model():\n",
        "  return nn.Sequential( # 512, 512\n",
        "    nn.Conv2d(3, 8, 6, padding=2, stride=2),\n",
        "    #nn.BatchNorm2d(8),\n",
        "    #nn.Tanh(),\n",
        "    nn.ReLU(),\n",
        "\n",
        "    nn.Conv2d(8, 16, 6, padding=2, stride=2),\n",
        "    #nn.BatchNorm2d(16),\n",
        "    #nn.Tanh(),\n",
        "    nn.ReLU(),\n",
        "\n",
        "    nn.MaxPool2d(2, stride=2), # 256, 256\n",
        "\n",
        "    nn.Conv2d(16, 32, 3, padding=1),\n",
        "    #nn.BatchNorm2d(32),\n",
        "    #nn.Tanh(),\n",
        "    nn.ReLU(),\n",
        "\n",
        "    nn.Conv2d(32, 64, 3, padding=1), \n",
        "    #nn.BatchNorm2d(64),\n",
        "    #nn.Tanh(),\n",
        "    nn.ReLU(),\n",
        "    \n",
        "    nn.MaxPool2d(2, stride=2), # 128\n",
        "\n",
        "    nn.Conv2d(64, 128, 3, padding=1),\n",
        "    #nn.BatchNorm2d(128),\n",
        "    #nn.Tanh(),\n",
        "    nn.ReLU(),\n",
        "    \n",
        "    nn.Conv2d(128, 256, 3, padding=1), \n",
        "    #nn.BatchNorm2d(256),\n",
        "    #nn.Tanh(),\n",
        "    nn.ReLU(),\n",
        "\n",
        "    nn.MaxPool2d(2, stride=2), # 64\n",
        "\n",
        "    nn.Conv2d(256, 128, 3, padding=1), \n",
        "    #nn.BatchNorm2d(128),\n",
        "    #nn.Tanh(),\n",
        "    nn.ReLU(),\n",
        "\n",
        "    nn.Conv2d(128, 64, 3, padding=1), \n",
        "    #nn.BatchNorm2d(64),\n",
        "    #nn.Tanh(),\n",
        "    nn.ReLU(),\n",
        "\n",
        "\n",
        "    nn.MaxPool2d(2, stride=2), # 32\n",
        "\n",
        "    nn.Conv2d(64, 32, 3, padding=1), \n",
        "    #nn.BatchNorm2d(32),\n",
        "    #nn.Tanh(),\n",
        "    nn.ReLU(),\n",
        "\n",
        "    nn.Conv2d(32, 16, 3, padding=1), \n",
        "    #nn.BatchNorm2d(16),\n",
        "    #nn.Tanh(),\n",
        "    nn.ReLU(),\n",
        "\n",
        "    nn.MaxPool2d(2, stride=2), # 16\n",
        "    \n",
        "    nn.Conv2d(16, 6, 1),\n",
        "    nn.AvgPool2d((4, 4)),\n",
        "    nn.Flatten(), \n",
        "    #nn.Softmax(dim=1) # 0.29 - 0.08 score = 87 train, 91 test - no augment; w aug 91/92&0.08/0.09 - 10 epoches but conv already\n",
        "  ).double().to(device=device)"
      ],
      "execution_count": null,
      "outputs": []
    },
    {
      "cell_type": "code",
      "metadata": {
        "id": "OtIfu0tSU6e-",
        "colab_type": "code",
        "colab": {
          "base_uri": "https://localhost:8080/",
          "height": 34
        },
        "outputId": "da7516c7-d1a9-4630-9cdf-fe7403848ae8"
      },
      "source": [
        "X_train.shape, X_test.shape, y_train.shape"
      ],
      "execution_count": null,
      "outputs": [
        {
          "output_type": "execute_result",
          "data": {
            "text/plain": [
              "((1092, 3, 512, 512), (79, 3, 512, 512), (1092,))"
            ]
          },
          "metadata": {
            "tags": []
          },
          "execution_count": 16
        }
      ]
    },
    {
      "cell_type": "code",
      "metadata": {
        "id": "dqSJ5-GKbxwP",
        "colab_type": "code",
        "colab": {
          "base_uri": "https://localhost:8080/",
          "height": 34
        },
        "outputId": "13b0a416-5c7c-48ca-c2f0-d5bbc03a2008"
      },
      "source": [
        "X.shape, y.shape"
      ],
      "execution_count": null,
      "outputs": [
        {
          "output_type": "execute_result",
          "data": {
            "text/plain": [
              "((1566, 3, 512, 512), (1566,))"
            ]
          },
          "metadata": {
            "tags": []
          },
          "execution_count": 15
        }
      ]
    },
    {
      "cell_type": "code",
      "metadata": {
        "id": "_rziXdodABFv",
        "colab_type": "code",
        "colab": {}
      },
      "source": [
        "class dataset(data.Dataset):\n",
        "  def __init__(self, x, y, rot):\n",
        "    self.x = x\n",
        "    self.len = x.shape[0]\n",
        "    self.y = y\n",
        "    self.rotation = rot\n",
        "\n",
        "  def __len__(self):\n",
        "    return self.len\n",
        "\n",
        "  def __getitem__(self, id):\n",
        "    return (scale(self.x[id], self.rotation[id]), self.y[id])"
      ],
      "execution_count": null,
      "outputs": []
    },
    {
      "cell_type": "code",
      "metadata": {
        "id": "OhMVzpMSAkc8",
        "colab_type": "code",
        "colab": {}
      },
      "source": [
        "train_dataset = dataset(X, y, X_train_rot)\n",
        "test_dataset = dataset(X_test, y_test, np.zeros(X_test.shape[0], dtype=np.int))\n",
        "\n",
        "batch_size = 64\n",
        "train_data = data.DataLoader(train_dataset, batch_size=batch_size, shuffle=True)\n",
        "test_data = data.DataLoader(test_dataset, batch_size=batch_size, shuffle=True)"
      ],
      "execution_count": null,
      "outputs": []
    },
    {
      "cell_type": "code",
      "metadata": {
        "id": "6C26AB_JhBuF",
        "colab_type": "code",
        "colab": {}
      },
      "source": [
        "train_score, train_loss, test_score, test_loss = [], [], [], []\n",
        "model = make_model()\n",
        "loss = nn.CrossEntropyLoss()\n",
        "optim = torch.optim.Adam(model.parameters(), lr=0.0005)"
      ],
      "execution_count": null,
      "outputs": []
    },
    {
      "cell_type": "code",
      "metadata": {
        "colab_type": "code",
        "id": "60bqVe1WdWPy",
        "colab": {
          "base_uri": "https://localhost:8080/",
          "height": 357
        },
        "outputId": "b618d310-c0f8-4977-9325-600c94901d9b"
      },
      "source": [
        "for epoch in range(20):\n",
        "  train_batch_score = []\n",
        "  test_batch_score = []\n",
        "  train_batch_loss = []\n",
        "  test_batch_loss = []\n",
        "  for batch in train_data:\n",
        "    model.train()\n",
        "    optim.zero_grad()\n",
        "    scores = model(batch[0].to(device=device))\n",
        "    current_loss = loss(scores, batch[1].to(device=device))\n",
        "    current_loss.backward()\n",
        "    optim.step()\n",
        "    predictions = scores.cpu().detach().numpy().argmax(axis=1)\n",
        "    train_batch_score.append((predictions == batch[1].numpy()).mean())\n",
        "    train_batch_loss.append(current_loss.item())\n",
        "  for batch in test_data:\n",
        "    model.eval()\n",
        "    scores = model(batch[0].to(device=device))\n",
        "    current_loss = loss(scores, batch[1].to(device=device))\n",
        "    predictions = scores.cpu().detach().numpy().argmax(axis=1)\n",
        "    test_batch_score.append((predictions == batch[1].numpy()).mean())\n",
        "    test_batch_loss.append(current_loss.item())\n",
        "  cetrs = np.mean(train_batch_score)\n",
        "  cetrl = np.mean(train_batch_loss)\n",
        "  cetts = np.mean(test_batch_score)\n",
        "  cettl = np.mean(test_batch_loss) \n",
        "  \n",
        "  print(epoch, ' ', 'train_score = ', cetrs, \" test_score = \", cetts, \" train_loss = \", cetrl, \" test_loss = \", cettl)"
      ],
      "execution_count": null,
      "outputs": [
        {
          "output_type": "stream",
          "text": [
            "0   train_score =  0.275 test_score =  0.27777777777777773 train_loss =  1.5091567249478046 test_loss =  1.3413664247564991\n",
            "1   train_score =  0.2625 test_score =  0.28958333333333336 train_loss =  1.3542324957755079 test_loss =  1.2862368074570718\n",
            "2   train_score =  0.5669642857142857 test_score =  0.6284722222222222 train_loss =  1.1790059991515756 test_loss =  0.9930268297989214\n",
            "3   train_score =  0.6339285714285714 test_score =  0.7548611111111111 train_loss =  0.8810317410817989 test_loss =  0.7508161635741551\n",
            "4   train_score =  0.6857142857142857 test_score =  0.6909722222222222 train_loss =  0.6664709847542687 test_loss =  0.5781641337848592\n",
            "5   train_score =  0.7410714285714286 test_score =  0.7458333333333332 train_loss =  0.5417597125240943 test_loss =  0.46035008379570524\n",
            "6   train_score =  0.8178571428571428 test_score =  0.8618055555555556 train_loss =  0.4142036550041839 test_loss =  0.3273434925648821\n",
            "7   train_score =  0.85625 test_score =  0.6673611111111111 train_loss =  0.33287872755758635 test_loss =  0.7817054648440737\n",
            "8   train_score =  0.8785714285714286 test_score =  0.6791666666666667 train_loss =  0.2815727400439225 test_loss =  0.7265637458320913\n",
            "9   train_score =  0.8642857142857143 test_score =  0.725 train_loss =  0.2678093520238307 test_loss =  0.6329333704589112\n",
            "10   train_score =  0.8696428571428572 test_score =  0.6805555555555555 train_loss =  0.26447649762446995 test_loss =  0.7023149409375181\n",
            "11   train_score =  0.9142857142857143 test_score =  0.9020833333333332 train_loss =  0.1949232626289673 test_loss =  0.26174262810856014\n",
            "12   train_score =  0.9401785714285714 test_score =  0.85 train_loss =  0.14284651094219764 test_loss =  0.4535642258712828\n",
            "13   train_score =  0.7928571428571428 test_score =  0.8291666666666666 train_loss =  0.6413538285921574 test_loss =  0.6274985002044496\n",
            "14   train_score =  0.8892857142857142 test_score =  0.8944444444444445 train_loss =  0.3211483939550244 test_loss =  0.2691888935249756\n",
            "15   train_score =  0.925 test_score =  0.8736111111111112 train_loss =  0.16513076273623367 test_loss =  0.3005756969316145\n",
            "16   train_score =  0.9348214285714286 test_score =  0.8291666666666666 train_loss =  0.17027851993041634 test_loss =  0.22540315328211188\n",
            "17   train_score =  0.93125 test_score =  0.8944444444444445 train_loss =  0.16265981830673118 test_loss =  0.2651791605743147\n",
            "18   train_score =  0.9401785714285714 test_score =  0.9256944444444445 train_loss =  0.15339888008952815 test_loss =  0.194684175692957\n",
            "19   train_score =  0.9258928571428572 test_score =  0.8930555555555556 train_loss =  0.20520472604715928 test_loss =  0.2240380476238911\n"
          ],
          "name": "stdout"
        }
      ]
    },
    {
      "cell_type": "code",
      "metadata": {
        "colab_type": "code",
        "id": "csZG9GhTdWP6",
        "colab": {}
      },
      "source": [
        ""
      ],
      "execution_count": null,
      "outputs": []
    }
  ]
}